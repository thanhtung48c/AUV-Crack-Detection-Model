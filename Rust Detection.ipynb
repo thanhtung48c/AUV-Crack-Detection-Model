{
 "cells": [
  {
   "cell_type": "code",
   "execution_count": 3,
   "id": "28953c61",
   "metadata": {},
   "outputs": [
    {
     "name": "stdout",
     "output_type": "stream",
     "text": [
      " Welcome to the rust detection software!! \n",
      " The software detects the rusted portion of metal\n",
      " and calculates nuber of rust piels for \n",
      " comparitive analysis.\n",
      "\n",
      "\n",
      "**********************************************\n"
     ]
    },
    {
     "ename": "NameError",
     "evalue": "name 'img' is not defined",
     "output_type": "error",
     "traceback": [
      "\u001b[1;31m---------------------------------------------------------------------------\u001b[0m",
      "\u001b[1;31mNameError\u001b[0m                                 Traceback (most recent call last)",
      "\u001b[1;32m~\\AppData\\Local\\Temp/ipykernel_24752/1490071920.py\u001b[0m in \u001b[0;36m<module>\u001b[1;34m\u001b[0m\n\u001b[0;32m     54\u001b[0m \u001b[1;32mfor\u001b[0m \u001b[0mpath\u001b[0m \u001b[1;32min\u001b[0m \u001b[0mimages\u001b[0m\u001b[1;33m:\u001b[0m\u001b[1;33m\u001b[0m\u001b[1;33m\u001b[0m\u001b[0m\n\u001b[0;32m     55\u001b[0m         \u001b[0mcount\u001b[0m\u001b[1;33m+=\u001b[0m\u001b[1;36m1\u001b[0m\u001b[1;33m\u001b[0m\u001b[1;33m\u001b[0m\u001b[0m\n\u001b[1;32m---> 56\u001b[1;33m         \u001b[0mrust_detect\u001b[0m\u001b[1;33m(\u001b[0m\u001b[0mpath\u001b[0m\u001b[1;33m)\u001b[0m\u001b[1;33m\u001b[0m\u001b[1;33m\u001b[0m\u001b[0m\n\u001b[0m\u001b[0;32m     57\u001b[0m \u001b[1;33m\u001b[0m\u001b[0m\n\u001b[0;32m     58\u001b[0m \u001b[0minput\u001b[0m\u001b[1;33m(\u001b[0m\u001b[1;34m\"\\n PRESS ENTER TO EXIT \"\u001b[0m\u001b[1;33m)\u001b[0m\u001b[1;33m\u001b[0m\u001b[1;33m\u001b[0m\u001b[0m\n",
      "\u001b[1;32m~\\AppData\\Local\\Temp/ipykernel_24752/1490071920.py\u001b[0m in \u001b[0;36mrust_detect\u001b[1;34m(file)\u001b[0m\n\u001b[0;32m     13\u001b[0m \u001b[1;32mdef\u001b[0m \u001b[0mrust_detect\u001b[0m\u001b[1;33m(\u001b[0m\u001b[0mfile\u001b[0m\u001b[1;33m)\u001b[0m\u001b[1;33m:\u001b[0m\u001b[1;33m\u001b[0m\u001b[1;33m\u001b[0m\u001b[0m\n\u001b[0;32m     14\u001b[0m         \u001b[0mA\u001b[0m \u001b[1;33m=\u001b[0m \u001b[0mcv2\u001b[0m\u001b[1;33m.\u001b[0m\u001b[0mimread\u001b[0m\u001b[1;33m(\u001b[0m\u001b[0mfile\u001b[0m\u001b[1;33m)\u001b[0m\u001b[1;33m\u001b[0m\u001b[1;33m\u001b[0m\u001b[0m\n\u001b[1;32m---> 15\u001b[1;33m         \u001b[0mimg_hsv\u001b[0m\u001b[1;33m=\u001b[0m\u001b[0mcv2\u001b[0m\u001b[1;33m.\u001b[0m\u001b[0mcvtColor\u001b[0m\u001b[1;33m(\u001b[0m\u001b[0mimg\u001b[0m\u001b[1;33m,\u001b[0m \u001b[0mcv2\u001b[0m\u001b[1;33m.\u001b[0m\u001b[0mCOLOR_BGR2HSV\u001b[0m\u001b[1;33m)\u001b[0m\u001b[1;33m\u001b[0m\u001b[1;33m\u001b[0m\u001b[0m\n\u001b[0m\u001b[0;32m     16\u001b[0m \u001b[1;33m\u001b[0m\u001b[0m\n\u001b[0;32m     17\u001b[0m         \u001b[1;31m# Range for lower red\u001b[0m\u001b[1;33m\u001b[0m\u001b[1;33m\u001b[0m\u001b[0m\n",
      "\u001b[1;31mNameError\u001b[0m: name 'img' is not defined"
     ]
    }
   ],
   "source": [
    "# this is a project based on detection of rust iron portion\n",
    "# you need to pass an argument stating the file name of the image.\n",
    "# for simplicity keep the script and image in the same folder\n",
    "\n",
    "import cv2\n",
    "from sys import argv\n",
    "import numpy as np\n",
    "import os\n",
    "import glob\n",
    "\n",
    "count = 0\n",
    "\n",
    "def rust_detect(file):\n",
    "\tA = cv2.imread(file)\n",
    "\timg_hsv=cv2.cvtColor(img, cv2.COLOR_BGR2HSV)\n",
    "\t\n",
    "\t# Range for lower red\n",
    "\tlower_red = np.array([0,70,70])\n",
    "\tupper_red = np.array([20,200,150])\n",
    "\tmask0 = cv2.inRange(img_hsv, lower_red, upper_red)\n",
    "\t\n",
    "\t# range for upper red\n",
    "\tlower_red = np.array([170,70,70])\n",
    "\tupper_red = np.array([180,200,150])\n",
    "\tmask1 = cv2.inRange(img_hsv, lower_red, upper_red)\n",
    "\t\n",
    "\t# add both masks\n",
    "\tmask = mask0+mask1\n",
    "\t\n",
    "\toutput_img = cv2.bitwise_and(img,img,mask=mask)\n",
    "\t\n",
    "\tprint(\"\\n\\n\\n Number of pixels depicting rust \\n >> %d\"%(np.sum(mask)/255))\n",
    "\tcv2.imshow('image1',output_img)\n",
    "\tcv2.imshow('image2',img)\n",
    "\tcv2.waitKey(0)\n",
    "\tcv2.imwrite('output_image%d.jpg'%count,output_img)\n",
    "\tcv2.imwrite('image%d.jpg'%count,img)\n",
    "\tcv2.destroyAllWindows()\n",
    "\tos.system(\"cls\")\n",
    "\t\n",
    "\t\n",
    "\t\n",
    "os.system(\"color 0a\")\n",
    "os.system(\"cls\")\n",
    "\n",
    "print(\"\"\" Welcome to the rust detection software!! \n",
    " The software detects the rusted portion of metal\n",
    " and calculates nuber of rust piels for \n",
    " comparitive analysis.\\n\\n\"\"\")\n",
    "print(\"**********************************************\")\n",
    "\n",
    "images = glob.glob(\"Images/*.png\")\n",
    "\n",
    "for path in images:\n",
    "\tcount+=1\n",
    "\trust_detect(path)\n",
    "\n",
    "input(\"\\n PRESS ENTER TO EXIT \")"
   ]
  },
  {
   "cell_type": "code",
   "execution_count": null,
   "id": "b498a4e9",
   "metadata": {},
   "outputs": [],
   "source": []
  }
 ],
 "metadata": {
  "kernelspec": {
   "display_name": "Python 3 (ipykernel)",
   "language": "python",
   "name": "python3"
  },
  "language_info": {
   "codemirror_mode": {
    "name": "ipython",
    "version": 3
   },
   "file_extension": ".py",
   "mimetype": "text/x-python",
   "name": "python",
   "nbconvert_exporter": "python",
   "pygments_lexer": "ipython3",
   "version": "3.9.7"
  }
 },
 "nbformat": 4,
 "nbformat_minor": 5
}
