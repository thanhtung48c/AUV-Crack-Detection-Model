{
 "cells": [
  {
   "cell_type": "code",
   "execution_count": 1,
   "id": "531c6cc1",
   "metadata": {},
   "outputs": [
    {
     "name": "stdout",
     "output_type": "stream",
     "text": [
      "Populating the interactive namespace from numpy and matplotlib\n"
     ]
    }
   ],
   "source": [
    "import numpy as np\n",
    "import cv2\n",
    "\n",
    "%pylab inline \n",
    "\n",
    "%load_ext Cython"
   ]
  },
  {
   "cell_type": "code",
   "execution_count": 2,
   "id": "866a39ba",
   "metadata": {},
   "outputs": [],
   "source": [
    "%%cython\n",
    "# Use %%cython -a for more verbose output, note %%cython should be on the first line in the cell!\n",
    "def get_8_connected(int x, int y, shape):\n",
    "    cdef int xmax = shape[0]-1\n",
    "    cdef int ymax = shape[1]-1\n",
    "    cdef int connected_pixel_x \n",
    "    cdef int connected_pixel_y\n",
    "    cdef int dx, dy\n",
    "    \n",
    "    connected_pixels = list()\n",
    "    \n",
    "    for dx in range(3):\n",
    "        for dy in range(3):\n",
    "            connected_pixel_x  = x + dx - 1\n",
    "            connected_pixel_y = y + dy - 1\n",
    "            if connected_pixel_x < 0 or connected_pixel_x > xmax or \\\n",
    "                connected_pixel_y < 0 or connected_pixel_y > ymax or \\\n",
    "                (connected_pixel_x == x and connected_pixel_y == y):\n",
    "                    pass\n",
    "            else: \n",
    "                connected_pixels.append((connected_pixel_x,connected_pixel_y)) \n",
    "    return  connected_pixels"
   ]
  },
  {
   "cell_type": "code",
   "execution_count": 7,
   "id": "a6abe48c",
   "metadata": {},
   "outputs": [],
   "source": [
    "def region_growing(img, \n",
    "                   seed_points, \n",
    "                   test = lambda seed_x, seed_y, x, y, img, outimg : img[x,y] != 0,\n",
    "                   colormap=None):\n",
    "    \n",
    "    processed = np.full((img.shape[0],img.shape[1]), False)\n",
    "    \n",
    "    if colormap is None:\n",
    "        outimg = np.zeros_like(img)\n",
    "    else:\n",
    "        outimg = np.zeros((img.shape[0],img.shape[1],colormap.shape[1]),dtype=np.uint8)\n",
    "    \n",
    "    for index, pix in enumerate(seed_points):\n",
    "        processed[pix[0], pix[1]] = True\n",
    "        if colormap is None:\n",
    "            outimg[pix[0], pix[1]] = img[pix[0], pix[1]]\n",
    "        else:\n",
    "            outimg[pix[0], pix[1]]  = colormap[index % len(colormap)]\n",
    "    \n",
    "    while(len(seed_points) > 0):\n",
    "        pix = seed_points[0]\n",
    "            \n",
    "        for coord in get_8_connected(pix[0], pix[1], img.shape):\n",
    "            if not processed[coord[0],coord[1]]:\n",
    "                test_result = test(pix[0], pix[1], coord[0], coord[1], img, outimg)\n",
    "                if test_result:\n",
    "                    outimg[coord[0], coord[1]]  = outimg[pix[0], pix[1]]\n",
    "                    if not processed[coord[0],coord[1]]:\n",
    "                        seed_points.append(coord)\n",
    "                    processed[coord[0],coord[1]] = True\n",
    "        #Process Animation\n",
    "        cv2.imshow(\"progress\",outimg)\n",
    "        cv2.waitKey(1)           \n",
    "        \n",
    "        seed_points.pop(0)\n",
    "    return outimg"
   ]
  },
  {
   "cell_type": "code",
   "execution_count": 11,
   "id": "3af41cd0",
   "metadata": {},
   "outputs": [
    {
     "ename": "AttributeError",
     "evalue": "module 'cv2' has no attribute 'cvtcolor'",
     "output_type": "error",
     "traceback": [
      "\u001b[1;31m---------------------------------------------------------------------------\u001b[0m",
      "\u001b[1;31mAttributeError\u001b[0m                            Traceback (most recent call last)",
      "\u001b[1;32m~\\AppData\\Local\\Temp/ipykernel_13288/3623613723.py\u001b[0m in \u001b[0;36m<module>\u001b[1;34m\u001b[0m\n\u001b[0;32m      6\u001b[0m \u001b[0mclicks\u001b[0m \u001b[1;33m=\u001b[0m \u001b[1;33m[\u001b[0m\u001b[1;33m]\u001b[0m\u001b[1;33m\u001b[0m\u001b[1;33m\u001b[0m\u001b[0m\n\u001b[0;32m      7\u001b[0m \u001b[0mimage\u001b[0m \u001b[1;33m=\u001b[0m \u001b[0mcv2\u001b[0m\u001b[1;33m.\u001b[0m\u001b[0mimread\u001b[0m\u001b[1;33m(\u001b[0m\u001b[1;34m'Test2.bmp'\u001b[0m\u001b[1;33m,\u001b[0m \u001b[1;36m0\u001b[0m\u001b[1;33m)\u001b[0m\u001b[1;33m\u001b[0m\u001b[1;33m\u001b[0m\u001b[0m\n\u001b[1;32m----> 8\u001b[1;33m \u001b[0mimage\u001b[0m \u001b[1;33m=\u001b[0m \u001b[0mcv2\u001b[0m\u001b[1;33m.\u001b[0m\u001b[0mcvtcolor\u001b[0m\u001b[1;33m(\u001b[0m\u001b[0mimage\u001b[0m\u001b[1;33m,\u001b[0m \u001b[0mcv2\u001b[0m\u001b[1;33m.\u001b[0m\u001b[0mCOLOR_BGR2GRAY\u001b[0m\u001b[1;33m)\u001b[0m\u001b[1;33m\u001b[0m\u001b[1;33m\u001b[0m\u001b[0m\n\u001b[0m\u001b[0;32m      9\u001b[0m \u001b[0mret\u001b[0m\u001b[1;33m,\u001b[0m \u001b[0mimg\u001b[0m \u001b[1;33m=\u001b[0m \u001b[0mcv2\u001b[0m\u001b[1;33m.\u001b[0m\u001b[0mthreshold\u001b[0m\u001b[1;33m(\u001b[0m\u001b[0mimage\u001b[0m\u001b[1;33m,\u001b[0m \u001b[1;36m128\u001b[0m\u001b[1;33m,\u001b[0m \u001b[1;36m255\u001b[0m\u001b[1;33m,\u001b[0m \u001b[0mcv2\u001b[0m\u001b[1;33m.\u001b[0m\u001b[0mTHRESH_BINARY\u001b[0m\u001b[1;33m)\u001b[0m\u001b[1;33m\u001b[0m\u001b[1;33m\u001b[0m\u001b[0m\n\u001b[0;32m     10\u001b[0m \u001b[0mcv2\u001b[0m\u001b[1;33m.\u001b[0m\u001b[0mnamedWindow\u001b[0m\u001b[1;33m(\u001b[0m\u001b[1;34m'Input'\u001b[0m\u001b[1;33m)\u001b[0m\u001b[1;33m\u001b[0m\u001b[1;33m\u001b[0m\u001b[0m\n",
      "\u001b[1;31mAttributeError\u001b[0m: module 'cv2' has no attribute 'cvtcolor'"
     ]
    }
   ],
   "source": [
    "def on_mouse(event, x, y, flags, params):\n",
    "    if event == cv2.EVENT_LBUTTONDOWN:\n",
    "        print( 'Seed: ' + str(x) + ', ' + str(y), img[y,x])\n",
    "        clicks.append((int(y), int(x)))\n",
    "        \n",
    "clicks = []\n",
    "image = cv2.imread('Test2.bmp', 0)\n",
    "image = cv2.cvtcolor(image, cv2.COLOR_BGR2GRAY)\n",
    "ret, img = cv2.threshold(image, 128, 255, cv2.THRESH_BINARY)\n",
    "cv2.namedWindow('Input')\n",
    "cv2.setMouseCallback('Input', on_mouse, 0, )\n",
    "cv2.imshow('Input', img)\n",
    "cv2.waitKey(0)\n",
    "#cv2.destroyAllWindows()\n",
    "\n",
    "seed = clicks\n",
    "out = region_growing(img, seed)\n",
    "cv2.imshow('Region Growing', out)\n",
    "cv2.waitKey(0)\n",
    "cv2.destroyAllWindows()"
   ]
  },
  {
   "cell_type": "code",
   "execution_count": null,
   "id": "b9399cb9",
   "metadata": {},
   "outputs": [],
   "source": []
  }
 ],
 "metadata": {
  "kernelspec": {
   "display_name": "Python 3 (ipykernel)",
   "language": "python",
   "name": "python3"
  },
  "language_info": {
   "codemirror_mode": {
    "name": "ipython",
    "version": 3
   },
   "file_extension": ".py",
   "mimetype": "text/x-python",
   "name": "python",
   "nbconvert_exporter": "python",
   "pygments_lexer": "ipython3",
   "version": "3.9.7"
  }
 },
 "nbformat": 4,
 "nbformat_minor": 5
}
